{
 "cells": [
  {
   "cell_type": "code",
   "execution_count": 20,
   "id": "c4af6a87",
   "metadata": {},
   "outputs": [],
   "source": [
    "from papyri.take2 import encoder, REV_TAG_MAP\n",
    "import papyri.crosslink"
   ]
  },
  {
   "cell_type": "code",
   "execution_count": 25,
   "id": "7bd699f8",
   "metadata": {},
   "outputs": [
    {
     "data": {
      "text/plain": [
       "{4006, 4019, 4026, 4029}"
      ]
     },
     "execution_count": 25,
     "metadata": {},
     "output_type": "execute_result"
    }
   ],
   "source": [
    "ks = REV_TAG_MAP.keys()\n",
    "set(range(min(ks), max(ks))) - set(ks)\n"
   ]
  },
  {
   "cell_type": "code",
   "execution_count": 10,
   "id": "27e5f770",
   "metadata": {},
   "outputs": [],
   "source": [
    "from pathlib import Path"
   ]
  },
  {
   "cell_type": "code",
   "execution_count": 12,
   "id": "ddd8340c",
   "metadata": {},
   "outputs": [],
   "source": [
    "b = encoder.decode(Path('/Users/bussonniermatthias/.papyri/ingest/numpy/1.22.3/docs/dev:index').read_bytes())"
   ]
  },
  {
   "cell_type": "code",
   "execution_count": 19,
   "id": "56414af1",
   "metadata": {
    "scrolled": false
   },
   "outputs": [
    {
     "data": {
      "text/plain": [
       "[<Paragraph: \n",
       "    |inline: [If you are a first-time contributor:]\n",
       "    |inner: []\n",
       "    |>,\n",
       " <BulletList: \n",
       "    |value: [<Paragraph: \n",
       "    |   |inline: [Go to , <Directive `https://github.com/numpy/numpy\n",
       "    |   |     <https://github.com/numpy/numpy>`>,  and click the      \"fork\" button to create your own copy of the project.]\n",
       "    |   |inner: []\n",
       "    |   |>]\n",
       "    |>,\n",
       " <BulletList: \n",
       "    |value: [<Paragraph: \n",
       "    |   |inline: [Clone the project to your local computer::        ]\n",
       "    |   |inner: []\n",
       "    |   |>, <BlockVerbatim '52'>]\n",
       "    |>,\n",
       " <BulletList: \n",
       "    |value: [<Paragraph: \n",
       "    |   |inline: [Change the directory::        ]\n",
       "    |   |inner: []\n",
       "    |   |>, <BlockVerbatim '8'>]\n",
       "    |>,\n",
       " <BulletList: \n",
       "    |value: [<Paragraph: \n",
       "    |   |inline: [Add the upstream repository::        ]\n",
       "    |   |inner: []\n",
       "    |   |>, <BlockVerbatim '58'>]\n",
       "    |>,\n",
       " <BulletList: \n",
       "    |value: [<Paragraph: \n",
       "    |   |inline: [Now, , ``git remote -v``,  will show two remote repositories named:]\n",
       "    |   |inner: []\n",
       "    |   |>, <BulletList: \n",
       "    |   |value: [<Paragraph: \n",
       "    |   |   |inline: [``upstream``, , which refers to the , ``numpy``,  repository]\n",
       "    |   |   |inner: []\n",
       "    |   |   |>, <Paragraph: \n",
       "    |   |   |inline: [``origin``, , which refers to your personal fork]\n",
       "    |   |   |inner: []\n",
       "    |   |   |>]\n",
       "    |   |>]\n",
       "    |>]"
      ]
     },
     "execution_count": 19,
     "metadata": {},
     "output_type": "execute_result"
    }
   ],
   "source": [
    "b.arbitrary[2].children[1].value"
   ]
  },
  {
   "cell_type": "code",
   "execution_count": null,
   "id": "6a172228",
   "metadata": {},
   "outputs": [],
   "source": []
  }
 ],
 "metadata": {
  "kernelspec": {
   "display_name": "Python 3 (ipykernel)",
   "language": "python",
   "name": "python3"
  },
  "language_info": {
   "codemirror_mode": {
    "name": "ipython",
    "version": 3
   },
   "file_extension": ".py",
   "mimetype": "text/x-python",
   "name": "python",
   "nbconvert_exporter": "python",
   "pygments_lexer": "ipython3",
   "version": "3.9.0"
  }
 },
 "nbformat": 4,
 "nbformat_minor": 5
}
